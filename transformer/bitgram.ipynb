{
 "cells": [
  {
   "cell_type": "markdown",
   "metadata": {},
   "source": [
    "Reference: https://github.com/karpathy/ng-video-lecture"
   ]
  },
  {
   "cell_type": "code",
   "execution_count": 83,
   "metadata": {},
   "outputs": [
    {
     "name": "stdout",
     "output_type": "stream",
     "text": [
      "Length of dataset in characters:  1115394\n"
     ]
    }
   ],
   "source": [
    "# Read it in to inspect it\n",
    "with open('input.txt', 'r', encoding='utf-8') as f:\n",
    "    text = f.read()\n",
    "\n",
    "print(\"Length of dataset in characters: \", len(text))\n"
   ]
  },
  {
   "cell_type": "code",
   "execution_count": 84,
   "metadata": {},
   "outputs": [
    {
     "name": "stdout",
     "output_type": "stream",
     "text": [
      "First Citizen:\n",
      "Before we proceed any further, hear me speak.\n",
      "\n",
      "All:\n",
      "Speak, speak.\n",
      "\n",
      "First Citizen:\n",
      "You are all resolved rather to die than to famish?\n",
      "\n",
      "All:\n",
      "Resolved. resolved.\n",
      "\n",
      "First Citizen:\n",
      "First, you know Caius Marcius is chief enemy to the people.\n",
      "\n",
      "All:\n",
      "We know't, we know't.\n",
      "\n",
      "First Citizen:\n",
      "Let us kill him, and we'll have corn at our own price.\n",
      "Is't a verdict?\n",
      "\n",
      "All:\n",
      "No more talking on't; let it be done: away, away!\n",
      "\n",
      "Second Citizen:\n",
      "One word, good citizens.\n",
      "\n",
      "First Citizen:\n",
      "We are accounted poor citizens, the patricians good.\n",
      "What authority surfeits on would relieve us: if they\n",
      "would yield us but the superfluity, while it were\n",
      "wholesome, we might guess they relieved us humanely;\n",
      "but they think we are too dear: the leanness that\n",
      "afflicts us, the object of our misery, is as an\n",
      "inventory to particularise their abundance; our\n",
      "sufferance is a gain to them Let us revenge this with\n",
      "our pikes, ere we become rakes: for the gods know I\n",
      "speak this in hunger for bread, not in thirst for revenge.\n",
      "\n",
      "\n"
     ]
    }
   ],
   "source": [
    "# Let's look at the first 1000 characters\n",
    "print(text[:1000])\n"
   ]
  },
  {
   "cell_type": "code",
   "execution_count": 85,
   "metadata": {},
   "outputs": [
    {
     "name": "stdout",
     "output_type": "stream",
     "text": [
      "\n",
      " !$&',-.3:;?ABCDEFGHIJKLMNOPQRSTUVWXYZabcdefghijklmnopqrstuvwxyz\n",
      "Vocabulary size: 65\n"
     ]
    }
   ],
   "source": [
    "# Here are all the unique characters in the file\n",
    "chars = sorted(list(set(text)))\n",
    "vocab_size = len(chars)\n",
    "print(''.join(chars))\n",
    "print('Vocabulary size:', vocab_size)\n"
   ]
  },
  {
   "cell_type": "code",
   "execution_count": 86,
   "metadata": {},
   "outputs": [
    {
     "name": "stdout",
     "output_type": "stream",
     "text": [
      "[46, 47, 47, 1, 58, 46, 43, 56, 43]\n",
      "hii there\n"
     ]
    }
   ],
   "source": [
    "# Create a mapping from character to integer\n",
    "stoi = { ch:i for i,ch in enumerate(chars) }\n",
    "itos = { i:ch for i,ch in enumerate(chars) }\n",
    "encode = lambda s: [stoi[ch] for ch in s] # encoder: takes a string and returns a list of integers\n",
    "decode = lambda l: ''.join([itos[i] for i in l]) # decoder: takes a list of integers and returns a string\n",
    "\n",
    "print(encode(\"hii there\"))\n",
    "print(decode(encode(\"hii there\")))\n"
   ]
  },
  {
   "cell_type": "code",
   "execution_count": 87,
   "metadata": {},
   "outputs": [
    {
     "data": {
      "text/plain": [
       "'\\nOther mapping methods:\\n    1. Google: sentencepiece\\n               https://github.com/google/sentencepiece\\n\\n    2. OpenAI: tiktoken\\n               https://github.com/openai/tiktoken\\n\\n               import tiktoken\\n               enc = tiktoken.get_encoding(\"gpt2\")\\n               enc.n_vocab\\n               enc.encode(\"hii there\")\\n               enc.decode([71, 4178, 612])\\n\\n'"
      ]
     },
     "execution_count": 87,
     "metadata": {},
     "output_type": "execute_result"
    }
   ],
   "source": [
    "\"\"\"\n",
    "Other mapping methods:\n",
    "    1. Google: sentencepiece\n",
    "               https://github.com/google/sentencepiece\n",
    "\n",
    "    2. OpenAI: tiktoken\n",
    "               https://github.com/openai/tiktoken\n",
    "\n",
    "               import tiktoken\n",
    "               enc = tiktoken.get_encoding(\"gpt2\")\n",
    "               enc.n_vocab\n",
    "               enc.encode(\"hii there\")\n",
    "               enc.decode([71, 4178, 612])\n",
    "\n",
    "\"\"\"\n"
   ]
  },
  {
   "cell_type": "code",
   "execution_count": 88,
   "metadata": {},
   "outputs": [
    {
     "name": "stdout",
     "output_type": "stream",
     "text": [
      "torch.Size([1115394]) torch.int64\n",
      "tensor([18, 47, 56, 57, 58,  1, 15, 47, 58, 47, 64, 43, 52, 10,  0, 14, 43, 44,\n",
      "        53, 56, 43,  1, 61, 43,  1, 54, 56, 53, 41, 43, 43, 42,  1, 39, 52, 63,\n",
      "         1, 44, 59, 56, 58, 46, 43, 56,  6,  1, 46, 43, 39, 56,  1, 51, 43,  1,\n",
      "        57, 54, 43, 39, 49,  8,  0,  0, 13, 50, 50, 10,  0, 31, 54, 43, 39, 49,\n",
      "         6,  1, 57, 54, 43, 39, 49,  8,  0,  0, 18, 47, 56, 57, 58,  1, 15, 47,\n",
      "        58, 47, 64, 43, 52, 10,  0, 37, 53, 59], device='cuda:0')\n"
     ]
    }
   ],
   "source": [
    "# Let's now encode the entire text dataset and store it into a torch.Tensor\n",
    "import torch\n",
    "device = torch.device(\"cuda\" if torch.cuda.is_available() else \"cpu\")\n",
    "\n",
    "data = torch.tensor(encode(text), dtype=torch.long)\n",
    "data = data.to(device)\n",
    "print(data.shape, data.dtype)\n",
    "print(data[:100]) # the 100 chatacters we looked at\n"
   ]
  },
  {
   "cell_type": "code",
   "execution_count": 89,
   "metadata": {},
   "outputs": [],
   "source": [
    "# Let's now split up the data into train and validation sets\n",
    "n = int(0.9*len(data)) # first 90% of the data will be used for training, rest for validation\n",
    "train_data, valid_data = data[:n], data[n:]\n"
   ]
  },
  {
   "cell_type": "code",
   "execution_count": 90,
   "metadata": {},
   "outputs": [
    {
     "data": {
      "text/plain": [
       "True"
      ]
     },
     "execution_count": 90,
     "metadata": {},
     "output_type": "execute_result"
    }
   ],
   "source": [
    "valid_data.is_cuda"
   ]
  },
  {
   "cell_type": "code",
   "execution_count": 91,
   "metadata": {},
   "outputs": [
    {
     "data": {
      "text/plain": [
       "tensor([18, 47, 56, 57, 58,  1, 15, 47, 58], device='cuda:0')"
      ]
     },
     "execution_count": 91,
     "metadata": {},
     "output_type": "execute_result"
    }
   ],
   "source": [
    "block_size = 8 # the sequence length of the model\n",
    "train_data[:block_size+1]\n"
   ]
  },
  {
   "cell_type": "code",
   "execution_count": 92,
   "metadata": {},
   "outputs": [
    {
     "name": "stdout",
     "output_type": "stream",
     "text": [
      "when input is tensor([18], device='cuda:0') the target is 47\n",
      "when input is tensor([18, 47], device='cuda:0') the target is 56\n",
      "when input is tensor([18, 47, 56], device='cuda:0') the target is 57\n",
      "when input is tensor([18, 47, 56, 57], device='cuda:0') the target is 58\n",
      "when input is tensor([18, 47, 56, 57, 58], device='cuda:0') the target is 1\n",
      "when input is tensor([18, 47, 56, 57, 58,  1], device='cuda:0') the target is 15\n",
      "when input is tensor([18, 47, 56, 57, 58,  1, 15], device='cuda:0') the target is 47\n",
      "when input is tensor([18, 47, 56, 57, 58,  1, 15, 47], device='cuda:0') the target is 58\n"
     ]
    },
    {
     "data": {
      "text/plain": [
       "'\\nLet the transformer predict next character by input 1 character.\\nAnd predict next character by input 2 characters.\\nAnd predict next character by input 3 characters.\\nAnd so on.\\n'"
      ]
     },
     "execution_count": 92,
     "metadata": {},
     "output_type": "execute_result"
    }
   ],
   "source": [
    "x = train_data[:block_size]\n",
    "y = train_data[1:block_size+1]\n",
    "for t in range(block_size):\n",
    "    context = x[:t+1]\n",
    "    target = y[t]\n",
    "    print(f\"when input is {context} the target is {target}\")\n",
    "\n",
    "\"\"\"\n",
    "Let the transformer predict next character by input 1 character.\n",
    "And predict next character by input 2 characters.\n",
    "And predict next character by input 3 characters.\n",
    "And so on.\n",
    "\"\"\"\n"
   ]
  },
  {
   "cell_type": "code",
   "execution_count": 93,
   "metadata": {},
   "outputs": [
    {
     "name": "stdout",
     "output_type": "stream",
     "text": [
      "inputs:\n",
      "torch.Size([4, 8])\n",
      "tensor([[24, 43, 58,  5, 57,  1, 46, 43],\n",
      "        [44, 53, 56,  1, 58, 46, 39, 58],\n",
      "        [52, 58,  1, 58, 46, 39, 58,  1],\n",
      "        [25, 17, 27, 10,  0, 21,  1, 54]], device='cuda:0')\n",
      "targets:\n",
      "torch.Size([4, 8])\n",
      "tensor([[43, 58,  5, 57,  1, 46, 43, 39],\n",
      "        [53, 56,  1, 58, 46, 39, 58,  1],\n",
      "        [58,  1, 58, 46, 39, 58,  1, 46],\n",
      "        [17, 27, 10,  0, 21,  1, 54, 39]], device='cuda:0')\n",
      "------\n",
      "when input is tensor([24], device='cuda:0') the target is 43\n",
      "when input is tensor([24, 43], device='cuda:0') the target is 58\n",
      "when input is tensor([24, 43, 58], device='cuda:0') the target is 5\n",
      "when input is tensor([24, 43, 58,  5], device='cuda:0') the target is 57\n",
      "when input is tensor([24, 43, 58,  5, 57], device='cuda:0') the target is 1\n",
      "when input is tensor([24, 43, 58,  5, 57,  1], device='cuda:0') the target is 46\n",
      "when input is tensor([24, 43, 58,  5, 57,  1, 46], device='cuda:0') the target is 43\n",
      "when input is tensor([24, 43, 58,  5, 57,  1, 46, 43], device='cuda:0') the target is 39\n",
      "when input is tensor([44], device='cuda:0') the target is 53\n",
      "when input is tensor([44, 53], device='cuda:0') the target is 56\n",
      "when input is tensor([44, 53, 56], device='cuda:0') the target is 1\n",
      "when input is tensor([44, 53, 56,  1], device='cuda:0') the target is 58\n",
      "when input is tensor([44, 53, 56,  1, 58], device='cuda:0') the target is 46\n",
      "when input is tensor([44, 53, 56,  1, 58, 46], device='cuda:0') the target is 39\n",
      "when input is tensor([44, 53, 56,  1, 58, 46, 39], device='cuda:0') the target is 58\n",
      "when input is tensor([44, 53, 56,  1, 58, 46, 39, 58], device='cuda:0') the target is 1\n",
      "when input is tensor([52], device='cuda:0') the target is 58\n",
      "when input is tensor([52, 58], device='cuda:0') the target is 1\n",
      "when input is tensor([52, 58,  1], device='cuda:0') the target is 58\n",
      "when input is tensor([52, 58,  1, 58], device='cuda:0') the target is 46\n",
      "when input is tensor([52, 58,  1, 58, 46], device='cuda:0') the target is 39\n",
      "when input is tensor([52, 58,  1, 58, 46, 39], device='cuda:0') the target is 58\n",
      "when input is tensor([52, 58,  1, 58, 46, 39, 58], device='cuda:0') the target is 1\n",
      "when input is tensor([52, 58,  1, 58, 46, 39, 58,  1], device='cuda:0') the target is 46\n",
      "when input is tensor([25], device='cuda:0') the target is 17\n",
      "when input is tensor([25, 17], device='cuda:0') the target is 27\n",
      "when input is tensor([25, 17, 27], device='cuda:0') the target is 10\n",
      "when input is tensor([25, 17, 27, 10], device='cuda:0') the target is 0\n",
      "when input is tensor([25, 17, 27, 10,  0], device='cuda:0') the target is 21\n",
      "when input is tensor([25, 17, 27, 10,  0, 21], device='cuda:0') the target is 1\n",
      "when input is tensor([25, 17, 27, 10,  0, 21,  1], device='cuda:0') the target is 54\n",
      "when input is tensor([25, 17, 27, 10,  0, 21,  1, 54], device='cuda:0') the target is 39\n"
     ]
    }
   ],
   "source": [
    "torch.manual_seed(1337)\n",
    "batch_size = 4 # how many independent sequences will we process in parallel\n",
    "block_size = 8 # what is the maximum context length for prediction\n",
    "\n",
    "def get_batch(split):\n",
    "    # generate a small batch of inputs x and targets y\n",
    "    if split == 'train':\n",
    "        data = train_data\n",
    "    else:\n",
    "        data = valid_data\n",
    "\n",
    "    ix = torch.randint(data.size(0) - block_size, (batch_size,))\n",
    "    x = torch.stack([data[i:i+block_size] for i in ix]) # (batch_size, block_size)\n",
    "    y = torch.stack([data[i+1:i+block_size+1] for i in ix]) # shift 1 position to right\n",
    "\n",
    "    return x, y\n",
    "\n",
    "xb, yb = get_batch('train')\n",
    "print('inputs:')\n",
    "print(xb.shape)\n",
    "print(xb)\n",
    "\n",
    "print('targets:')\n",
    "print(yb.shape)\n",
    "print(yb)\n",
    "\n",
    "print('------')\n",
    "\n",
    "for b in range(batch_size): # batch_dimension\n",
    "    for t in range(block_size): # time dimension\n",
    "        context = xb[b, :t+1]\n",
    "        target = yb[b, t]\n",
    "        print(f\"when input is {context} the target is {target}\")"
   ]
  },
  {
   "cell_type": "code",
   "execution_count": 94,
   "metadata": {},
   "outputs": [
    {
     "data": {
      "text/plain": [
       "True"
      ]
     },
     "execution_count": 94,
     "metadata": {},
     "output_type": "execute_result"
    }
   ],
   "source": [
    "yb.is_cuda"
   ]
  },
  {
   "cell_type": "code",
   "execution_count": 95,
   "metadata": {},
   "outputs": [
    {
     "name": "stdout",
     "output_type": "stream",
     "text": [
      "torch.Size([32, 65])\n",
      "tensor(4.8786, device='cuda:0', grad_fn=<NllLossBackward0>)\n",
      "\n",
      "pYCXxfRkRZd\n",
      "wc'wfNfT;OLlTEeC K\n",
      "jxqPToTb?bXAUG:C-SGJO-33SM:C?YI3a\n",
      "hs:LVXJFhXeNuwqhObxZ.tSVrddXlaSZaNe\n"
     ]
    }
   ],
   "source": [
    "import torch \n",
    "import torch.nn as nn\n",
    "from torch.nn import functional as F\n",
    "torch.manual_seed(1337)\n",
    "\n",
    "class BigramLanguageModel(nn.Module):\n",
    "    def __init__(self, vocab_size):\n",
    "        super().__init__()\n",
    "        # each token directly reads off the logits for the next token from a lookup table\n",
    "        self.token_embedding_table = nn.Embedding(vocab_size, vocab_size)\n",
    "\n",
    "    def forward(self, idx, targets=None):\n",
    "        \n",
    "        # idx and targets are both (B,T) tensor of integers\n",
    "        logits = self.token_embedding_table(idx) # (B,T,C)\n",
    "\n",
    "        if targets is None:\n",
    "            loss = None\n",
    "        else:\n",
    "            # because the second dimension of cross_entorpy represents the channels\n",
    "            # we need to reshape the logits and targets\n",
    "            B,T,C = logits.shape\n",
    "            logits = logits.view(B*T, C)\n",
    "            targets = targets.view(B*T)\n",
    "            loss = F.cross_entropy(logits, targets)\n",
    "\n",
    "        return logits, loss\n",
    "    \n",
    "    def generate(self, idx, max_new_tokens):\n",
    "\n",
    "        # idx is (B,T) array of indices in the current context\n",
    "        for _ in range(max_new_tokens):\n",
    "            # get the predictions\n",
    "            logits, loss = self(idx)\n",
    "            # focus only on the last time step\n",
    "            logits = logits[:, -1, :] # become (B,C)\n",
    "            # apply softmax to get probabilities\n",
    "            probs = F.softmax(logits, dim=-1) # (B,C)\n",
    "            # sample from the distribution\n",
    "            next_tokens = torch.multinomial(probs, num_samples=1) # (B,1)\n",
    "            # append smapled index to the running sequence\n",
    "            idx = torch.cat([idx, next_tokens], dim=-1) # (B,T+1)\n",
    "\n",
    "        return idx\n",
    "    \n",
    "model = BigramLanguageModel(vocab_size)\n",
    "model = model.to(device)\n",
    "logits, loss = model(xb, yb)\n",
    "print(logits.shape)\n",
    "print(loss)\n",
    "start_idx = torch.zeros((1,1), dtype=torch.long).to(device)\n",
    "print(decode(model.generate(start_idx, max_new_tokens=100)[0].tolist()))\n",
    "# beacuse the model is not trained yet, the output is random\n",
    "# also, we only focus on the last time step, did not consider the history \n"
   ]
  },
  {
   "cell_type": "code",
   "execution_count": 96,
   "metadata": {},
   "outputs": [],
   "source": [
    "# create optimizer\n",
    "optimizer = torch.optim.AdamW(model.parameters(), lr=0.001)\n"
   ]
  },
  {
   "cell_type": "code",
   "execution_count": 97,
   "metadata": {},
   "outputs": [],
   "source": [
    "@torch.no_grad()\n",
    "def estimate_loss():\n",
    "    out = {}\n",
    "    model.eval() # change to eval mode\n",
    "    for split in ['train', 'valid']:\n",
    "        losses = torch.zeros(eval_interval)\n",
    "        for k in range(eval_interval):\n",
    "            x, y = get_batch(split)\n",
    "            logits, loss = model(x,y)\n",
    "            losses[k] = loss.item()\n",
    "        out[split] = losses.mean()\n",
    "    model.train()\n",
    "\n",
    "    return out"
   ]
  },
  {
   "cell_type": "code",
   "execution_count": 98,
   "metadata": {},
   "outputs": [
    {
     "name": "stdout",
     "output_type": "stream",
     "text": [
      "step: 0, train loss: 4.7264, val loss: 4.7253\n",
      "step: 1000, train loss: 3.7314, val loss: 3.7361\n",
      "step: 2000, train loss: 3.1199, val loss: 3.1272\n",
      "step: 3000, train loss: 2.8025, val loss: 2.8064\n",
      "step: 4000, train loss: 2.6398, val loss: 2.6450\n",
      "step: 5000, train loss: 2.5631, val loss: 2.5679\n",
      "step: 6000, train loss: 2.5144, val loss: 2.5313\n",
      "step: 7000, train loss: 2.4924, val loss: 2.5093\n",
      "step: 8000, train loss: 2.4827, val loss: 2.4979\n",
      "step: 9000, train loss: 2.4690, val loss: 2.4901\n",
      "step: 10000, train loss: 2.4680, val loss: 2.4888\n",
      "step: 11000, train loss: 2.4627, val loss: 2.4796\n",
      "step: 12000, train loss: 2.4607, val loss: 2.4822\n",
      "step: 13000, train loss: 2.4578, val loss: 2.4800\n",
      "step: 14000, train loss: 2.4579, val loss: 2.4817\n",
      "step: 15000, train loss: 2.4561, val loss: 2.4846\n",
      "step: 16000, train loss: 2.4606, val loss: 2.4809\n",
      "step: 17000, train loss: 2.4532, val loss: 2.4847\n",
      "step: 18000, train loss: 2.4532, val loss: 2.4842\n",
      "step: 19000, train loss: 2.4536, val loss: 2.4813\n",
      "step: 20000, train loss: 2.4534, val loss: 2.4829\n",
      "step: 21000, train loss: 2.4570, val loss: 2.4862\n",
      "step: 22000, train loss: 2.4521, val loss: 2.4827\n",
      "step: 23000, train loss: 2.4555, val loss: 2.4846\n",
      "step: 24000, train loss: 2.4532, val loss: 2.4831\n",
      "step: 25000, train loss: 2.4492, val loss: 2.4819\n",
      "step: 26000, train loss: 2.4546, val loss: 2.4852\n",
      "step: 27000, train loss: 2.4572, val loss: 2.4876\n",
      "step: 28000, train loss: 2.4549, val loss: 2.4884\n",
      "step: 29000, train loss: 2.4532, val loss: 2.4880\n",
      "step: 30000, train loss: 2.4519, val loss: 2.4911\n",
      "step: 31000, train loss: 2.4521, val loss: 2.4851\n",
      "step: 32000, train loss: 2.4532, val loss: 2.4866\n",
      "step: 33000, train loss: 2.4538, val loss: 2.4859\n",
      "step: 34000, train loss: 2.4547, val loss: 2.4895\n",
      "step: 35000, train loss: 2.4498, val loss: 2.4903\n",
      "step: 36000, train loss: 2.4509, val loss: 2.4875\n",
      "step: 37000, train loss: 2.4550, val loss: 2.4872\n",
      "step: 38000, train loss: 2.4509, val loss: 2.4896\n",
      "step: 39000, train loss: 2.4501, val loss: 2.4876\n",
      "step: 40000, train loss: 2.4510, val loss: 2.4911\n",
      "step: 41000, train loss: 2.4550, val loss: 2.4908\n",
      "step: 42000, train loss: 2.4519, val loss: 2.4921\n",
      "step: 43000, train loss: 2.4502, val loss: 2.4838\n",
      "step: 44000, train loss: 2.4543, val loss: 2.4879\n",
      "step: 45000, train loss: 2.4505, val loss: 2.4921\n",
      "step: 46000, train loss: 2.4530, val loss: 2.4950\n",
      "step: 47000, train loss: 2.4513, val loss: 2.4845\n",
      "step: 48000, train loss: 2.4512, val loss: 2.4872\n",
      "step: 49000, train loss: 2.4520, val loss: 2.4872\n",
      "step: 50000, train loss: 2.4538, val loss: 2.4917\n",
      "step: 51000, train loss: 2.4509, val loss: 2.4850\n",
      "step: 52000, train loss: 2.4576, val loss: 2.4828\n",
      "step: 53000, train loss: 2.4548, val loss: 2.4901\n",
      "step: 54000, train loss: 2.4543, val loss: 2.4825\n",
      "step: 55000, train loss: 2.4536, val loss: 2.4899\n",
      "step: 56000, train loss: 2.4501, val loss: 2.4878\n",
      "step: 57000, train loss: 2.4522, val loss: 2.4893\n",
      "step: 58000, train loss: 2.4496, val loss: 2.4913\n",
      "step: 59000, train loss: 2.4509, val loss: 2.4923\n",
      "step: 60000, train loss: 2.4543, val loss: 2.4888\n",
      "step: 61000, train loss: 2.4538, val loss: 2.4896\n",
      "step: 62000, train loss: 2.4528, val loss: 2.4849\n",
      "step: 63000, train loss: 2.4501, val loss: 2.4936\n",
      "step: 64000, train loss: 2.4568, val loss: 2.4892\n",
      "step: 65000, train loss: 2.4537, val loss: 2.4887\n",
      "step: 66000, train loss: 2.4514, val loss: 2.4900\n",
      "step: 67000, train loss: 2.4516, val loss: 2.4918\n",
      "step: 68000, train loss: 2.4520, val loss: 2.4895\n",
      "step: 69000, train loss: 2.4528, val loss: 2.4866\n",
      "step: 70000, train loss: 2.4518, val loss: 2.4899\n",
      "step: 71000, train loss: 2.4543, val loss: 2.4890\n",
      "step: 72000, train loss: 2.4535, val loss: 2.4927\n",
      "step: 73000, train loss: 2.4535, val loss: 2.4927\n",
      "step: 74000, train loss: 2.4506, val loss: 2.4852\n",
      "step: 75000, train loss: 2.4535, val loss: 2.4877\n",
      "step: 76000, train loss: 2.4535, val loss: 2.4856\n",
      "step: 77000, train loss: 2.4508, val loss: 2.4973\n",
      "step: 78000, train loss: 2.4553, val loss: 2.4887\n",
      "step: 79000, train loss: 2.4513, val loss: 2.4895\n",
      "step: 80000, train loss: 2.4523, val loss: 2.4909\n",
      "step: 81000, train loss: 2.4516, val loss: 2.4900\n",
      "step: 82000, train loss: 2.4529, val loss: 2.4895\n",
      "step: 83000, train loss: 2.4515, val loss: 2.4880\n",
      "step: 84000, train loss: 2.4556, val loss: 2.4906\n",
      "step: 85000, train loss: 2.4517, val loss: 2.4889\n",
      "step: 86000, train loss: 2.4510, val loss: 2.4969\n",
      "step: 87000, train loss: 2.4534, val loss: 2.4855\n",
      "step: 88000, train loss: 2.4523, val loss: 2.4897\n",
      "step: 89000, train loss: 2.4509, val loss: 2.4916\n",
      "step: 90000, train loss: 2.4540, val loss: 2.4920\n",
      "step: 91000, train loss: 2.4529, val loss: 2.4886\n",
      "step: 92000, train loss: 2.4538, val loss: 2.4884\n",
      "step: 93000, train loss: 2.4506, val loss: 2.4930\n",
      "step: 94000, train loss: 2.4480, val loss: 2.4888\n",
      "step: 95000, train loss: 2.4516, val loss: 2.4914\n",
      "step: 96000, train loss: 2.4548, val loss: 2.4909\n",
      "step: 97000, train loss: 2.4542, val loss: 2.4925\n",
      "step: 98000, train loss: 2.4499, val loss: 2.4874\n",
      "step: 99000, train loss: 2.4531, val loss: 2.4922\n",
      "2.541840076446533\n"
     ]
    }
   ],
   "source": [
    "batch_size = 32\n",
    "eval_interval = 1000\n",
    "max_iters = 100000\n",
    "\n",
    "for steps in range(max_iters):\n",
    "\n",
    "    # every once in a while evaluate the loss on train and val loss\n",
    "    if steps % eval_interval == 0:\n",
    "        losses = estimate_loss()\n",
    "        print(f\"step: {steps}, train loss: {losses['train']:.4f}, val loss: {losses['valid']:.4f}\")\n",
    "        \n",
    "    # sample a batch of data\n",
    "    xb, yb = get_batch('train')\n",
    "\n",
    "    # evaluate the loss\n",
    "    logits, loss = model(xb, yb)\n",
    "    optimizer.zero_grad(set_to_none=True)\n",
    "    loss.backward()\n",
    "    optimizer.step()\n",
    "\n",
    "print(loss.item())"
   ]
  },
  {
   "cell_type": "code",
   "execution_count": 99,
   "metadata": {},
   "outputs": [
    {
     "name": "stdout",
     "output_type": "stream",
     "text": [
      "\n",
      "Wawice my.\n",
      "\n",
      "Hastarom oroup\n",
      "Yowhthetof isth ble mil ndill, ath iree sengmin lat Heriliovets, and Win nghirileranousel lind me l.\n",
      "HAshe ce hiry:\n",
      "Supr aisspllw y.\n",
      "Hentofu n Boopetelaves\n",
      "MP:\n",
      "\n",
      "Pl, d mothakleo Windo whth eisbyo the m dourive we higend t so mower; te\n",
      "\n",
      "AN ad nterupt f s ar igr t m:\n",
      "\n",
      "Thiny aleronth,\n",
      "Mad\n",
      "Whed my o myr f-bube!\n",
      "KENoby ak\n",
      "Sadsal thes ghesthidin cour ay aney Iry ts I fr y ce.\n",
      "J\n"
     ]
    }
   ],
   "source": [
    "print(decode(model.generate(start_idx, max_new_tokens=400)[0].tolist()))\n",
    "# characters are not talk to each other"
   ]
  }
 ],
 "metadata": {
  "kernelspec": {
   "display_name": "pytorch",
   "language": "python",
   "name": "python3"
  },
  "language_info": {
   "codemirror_mode": {
    "name": "ipython",
    "version": 3
   },
   "file_extension": ".py",
   "mimetype": "text/x-python",
   "name": "python",
   "nbconvert_exporter": "python",
   "pygments_lexer": "ipython3",
   "version": "3.10.16"
  }
 },
 "nbformat": 4,
 "nbformat_minor": 2
}
