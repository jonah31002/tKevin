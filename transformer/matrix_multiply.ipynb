{
 "cells": [
  {
   "cell_type": "code",
   "execution_count": null,
   "metadata": {},
   "outputs": [],
   "source": [
    "\"\"\"\n",
    "After bitgram.ipynb, the character does not talk to each other.\n",
    "\n",
    "Note: the current character only depends on previous history. \n",
    "Not previous history and future character.\n",
    "\n",
    "The easiest way to talk to previous characters is to sum (or average) the previous tokens\n",
    "\"\"\""
   ]
  }
 ],
 "metadata": {
  "kernelspec": {
   "display_name": "pytorch",
   "language": "python",
   "name": "python3"
  },
  "language_info": {
   "name": "python",
   "version": "3.10.16"
  }
 },
 "nbformat": 4,
 "nbformat_minor": 2
}
